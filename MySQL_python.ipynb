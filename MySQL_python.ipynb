{
 "cells": [
  {
   "cell_type": "markdown",
   "metadata": {},
   "source": [
    "Code to connect to a SQL server database"
   ]
  },
  {
   "cell_type": "code",
   "execution_count": 1,
   "metadata": {},
   "outputs": [],
   "source": [
    "# Import libraries of interest \n",
    "import pandas as pd\n",
    "import numpy as np \n",
    "import mysql.connector"
   ]
  },
  {
   "cell_type": "code",
   "execution_count": 2,
   "metadata": {},
   "outputs": [],
   "source": [
    "# Enter your password...\n",
    "password = ..."
   ]
  },
  {
   "cell_type": "code",
   "execution_count": 7,
   "metadata": {},
   "outputs": [],
   "source": [
    "# Connect to SQL database on your computer \n",
    "conn = mysql.connector.connect(user='root', password=password, host='127.0.0.1', database='cville_climbs')\n",
    "cursor = conn.cursor() # Enable access to mySQL"
   ]
  },
  {
   "cell_type": "code",
   "execution_count": 23,
   "metadata": {},
   "outputs": [],
   "source": [
    "# Create route table\n",
    "create_route = '''\n",
    "CREATE TABLE route \n",
    "(route_id INT AUTO_INCREMENT PRIMARY KEY, \n",
    " name VARCHAR(32), \n",
    " difficulty DECIMAL,\n",
    " rating DECIMAL,\n",
    " type VARCHAR(10),\n",
    " person_id INT,\n",
    " location_id INT)\n",
    "'''\n",
    "cursor.execute(create_route)\n",
    "conn.commit()\n",
    "\n",
    "\n",
    "# Create location table \n",
    "create_location = '''\n",
    "CREATE TABLE location \n",
    "(location_id INT AUTO_INCREMENT PRIMARY KEY, \n",
    " latitude DECIMAL,\n",
    " longitude DECIMAL, \n",
    " name VARCHAR(32),\n",
    " entrance_city VARCHAR(255),\n",
    " entrance_zip VARCHAR(255),\n",
    " entrance_address VARCHAR(255),\n",
    " num_routes INT)\n",
    "'''\n",
    "cursor.execute(create_location)\n",
    "conn.commit()\n",
    "\n",
    "\n",
    "# Create log table \n",
    "create_log = '''\n",
    "CREATE TABLE log \n",
    "(log_id INT AUTO_INCREMENT PRIMARY KEY, \n",
    " person_id INT, \n",
    " comment LONGTEXT,\n",
    " route_beta LONGTEXT,\n",
    " route_id INT)\n",
    "'''\n",
    "cursor.execute(create_log)\n",
    "conn.commit()\n",
    "\n",
    "\n",
    "# Create route_setting table \n",
    "create_route_setting = '''\n",
    "CREATE TABLE route_setting\n",
    "(route_id INT,\n",
    "person_id INT)\n",
    "'''\n",
    "cursor.execute(create_log)\n",
    "conn.commit()\n",
    "\n",
    "\n",
    "# Create person table \n",
    "\n",
    "\n",
    "\n",
    "# conn.close()"
   ]
  },
  {
   "cell_type": "code",
   "execution_count": 22,
   "metadata": {},
   "outputs": [],
   "source": [
    "# Remove all tables\n",
    "destroy_tables = '''\n",
    "DROP TABLE IF EXISTS \n",
    "route, location, log, route_setting \n",
    "'''\n",
    "cursor.execute(destroy_tables)\n",
    "conn.commit()"
   ]
  }
 ],
 "metadata": {
  "kernelspec": {
   "display_name": "Python 3",
   "language": "python",
   "name": "python3"
  },
  "language_info": {
   "codemirror_mode": {
    "name": "ipython",
    "version": 3
   },
   "file_extension": ".py",
   "mimetype": "text/x-python",
   "name": "python",
   "nbconvert_exporter": "python",
   "pygments_lexer": "ipython3",
   "version": "3.8.5"
  }
 },
 "nbformat": 4,
 "nbformat_minor": 4
}
