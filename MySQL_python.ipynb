{
 "cells": [
  {
   "cell_type": "markdown",
   "metadata": {},
   "source": [
    "Code to connect to a SQL server database, create tables and insert records"
   ]
  },
  {
   "cell_type": "code",
   "execution_count": 1,
   "metadata": {},
   "outputs": [],
   "source": [
    "# Import libraries of interest \n",
    "import pandas as pd\n",
    "import numpy as np \n",
    "import mysql.connector"
   ]
  },
  {
   "cell_type": "code",
   "execution_count": 2,
   "metadata": {},
   "outputs": [],
   "source": [
    "# Enter your password...\n",
    "password = ..."
   ]
  },
  {
   "cell_type": "code",
   "execution_count": 7,
   "metadata": {},
   "outputs": [],
   "source": [
    "# Connect to SQL database on your computer \n",
    "conn = mysql.connector.connect(user='root', password=password, host='127.0.0.1', database='cville_climbs')\n",
    "cursor = conn.cursor() # Enable access to mySQL"
   ]
  },
  {
   "cell_type": "markdown",
   "metadata": {},
   "source": [
    "SQL to set up datatables, keys and constraints"
   ]
  },
  {
   "cell_type": "code",
   "execution_count": 77,
   "metadata": {},
   "outputs": [],
   "source": [
    "# Create location table \n",
    "create_location = '''\n",
    "CREATE TABLE location \n",
    "(location_id INT NOT NULL AUTO_INCREMENT,\n",
    " latitude DECIMAL NOT NULL,\n",
    " longitude DECIMAL NOT NULL, \n",
    " name VARCHAR(32) NOT NULL,\n",
    " entrance_city VARCHAR(255),\n",
    " entrance_zip VARCHAR(255),\n",
    " entrance_address VARCHAR(255),\n",
    " num_routes INT NOT NULL,\n",
    " PRIMARY KEY (location_id))\n",
    "'''\n",
    "cursor.execute(create_location)\n",
    "conn.commit()\n",
    "\n",
    "\n",
    "# Create person table \n",
    "create_person = '''\n",
    "CREATE TABLE person\n",
    "(person_id INT NOT NULL AUTO_INCREMENT,\n",
    " f_name VARCHAR(32) NOT NULL,\n",
    " l_name VARCHAR(32) NOT NULL,\n",
    " email VARCHAR(255) NOT NULL,\n",
    " phone INT NOT NULL,\n",
    " type_person enum('RC','C','A') NOT NULL,\n",
    " PRIMARY KEY (person_id))\n",
    "'''\n",
    "cursor.execute(create_person)\n",
    "conn.commit()\n",
    "\n",
    "\n",
    "# Create route table\n",
    "create_route = '''\n",
    "CREATE TABLE route \n",
    "(route_id INT NOT NULL AUTO_INCREMENT, \n",
    " name VARCHAR(32) NOT NULL, \n",
    " difficulty DECIMAL NOT NULL,\n",
    " rating DECIMAL,\n",
    " type enum('indoor','outdoor') NOT NULL,\n",
    " person_id INT NOT NULL,\n",
    " location_id INT NOT NULL,\n",
    " PRIMARY KEY (route_id),\n",
    " FOREIGN KEY (person_id) REFERENCES person (person_id),\n",
    " FOREIGN KEY (location_id) REFERENCES location (location_id))\n",
    "'''\n",
    "cursor.execute(create_route)\n",
    "conn.commit()\n",
    "\n",
    "\n",
    "# Create log table \n",
    "create_log = '''\n",
    "CREATE TABLE log \n",
    "(log_id INT NOT NULL AUTO_INCREMENT, \n",
    " person_id INT NOT NULL, \n",
    " comment LONGTEXT NOT NULL,\n",
    " route_beta LONGTEXT,\n",
    " route_id INT NOT NULL,\n",
    " PRIMARY KEY (log_id),\n",
    " FOREIGN KEY (route_id) REFERENCES route(route_id),\n",
    " FOREIGN KEY (person_id) REFERENCES person(person_id))\n",
    "'''\n",
    "cursor.execute(create_log)\n",
    "conn.commit()\n",
    "\n",
    "\n",
    "# Create route_setting table \n",
    "create_route_setting = '''\n",
    "CREATE TABLE route_setting\n",
    "(route_id INT NOT NULL,\n",
    " person_id INT NOT NULL,\n",
    " PRIMARY KEY (route_id, person_id),\n",
    " FOREIGN KEY (route_id) REFERENCES route(route_id),\n",
    " FOREIGN KEY (person_id) REFERENCES person(person_id))\n",
    "'''\n",
    "cursor.execute(create_route_setting)\n",
    "conn.commit()\n",
    "\n",
    "\n",
    "# Create route setter table\n",
    "create_route_setter = '''\n",
    "CREATE TABLE route_setter\n",
    "(person_id INT NOT NULL,\n",
    " n_routes_created INT NOT NULL,\n",
    " route_setting_exp_lvl DECIMAL NOT NULL,\n",
    " certifications LONGTEXT,\n",
    " PRIMARY KEY (person_id),\n",
    " FOREIGN KEY (person_id) REFERENCES person (person_id))\n",
    "'''\n",
    "cursor.execute(create_route_setter)\n",
    "conn.commit()\n",
    "\n",
    "\n",
    "# Create climber table \n",
    "create_climber = '''\n",
    "CREATE TABLE climber\n",
    "(person_id INT NOT NULL,\n",
    " exp_lvl DECIMAL NOT NULL, \n",
    " routes_attempted INT NOT NULL,\n",
    " is_team_member BOOLEAN NOT NULL,\n",
    " PRIMARY KEY (person_id),\n",
    " FOREIGN KEY (person_id) REFERENCES person (person_id))\n",
    "'''\n",
    "cursor.execute(create_climber)\n",
    "conn.commit()\n",
    "\n",
    "\n",
    "# Create administrator table \n",
    "create_admin = '''\n",
    "CREATE TABLE admin\n",
    "(person_id INT NOT NULL,\n",
    " has_edit_permission BOOLEAN NOT NULL, \n",
    " has_delete_permission BOOLEAN NOT NULL, \n",
    " has_create_permission BOOLEAN NOT NULL, \n",
    " is_owner BOOLEAN NOT NULL,\n",
    " PRIMARY KEY (person_id),\n",
    " FOREIGN KEY (person_id) REFERENCES person (person_id))\n",
    "'''\n",
    "cursor.execute(create_admin)\n",
    "conn.commit()"
   ]
  },
  {
   "cell_type": "code",
   "execution_count": 76,
   "metadata": {},
   "outputs": [],
   "source": [
    "# Remove all tables from database \n",
    "destroy_tables = '''\n",
    "DROP TABLE IF EXISTS \n",
    "route, location, log, route_setting, person, route_setter, admin, climber \n",
    "'''\n",
    "cursor.execute(destroy_tables)\n",
    "conn.commit()"
   ]
  },
  {
   "cell_type": "code",
   "execution_count": null,
   "metadata": {},
   "outputs": [],
   "source": [
    "# Close your connection \n",
    "conn.close()"
   ]
  }
 ],
 "metadata": {
  "kernelspec": {
   "display_name": "Python 3",
   "language": "python",
   "name": "python3"
  },
  "language_info": {
   "codemirror_mode": {
    "name": "ipython",
    "version": 3
   },
   "file_extension": ".py",
   "mimetype": "text/x-python",
   "name": "python",
   "nbconvert_exporter": "python",
   "pygments_lexer": "ipython3",
   "version": "3.8.5"
  }
 },
 "nbformat": 4,
 "nbformat_minor": 4
}
